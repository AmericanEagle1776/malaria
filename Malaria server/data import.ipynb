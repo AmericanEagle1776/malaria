{
 "cells": [
  {
   "cell_type": "code",
   "execution_count": 4,
   "metadata": {},
   "outputs": [],
   "source": [
    "import pandas as pd\n",
    "df = pd.read_excel('proteome.xlsx',sep=\"\\t\",header=1)"
   ]
  },
  {
   "cell_type": "code",
   "execution_count": 7,
   "metadata": {},
   "outputs": [
    {
     "name": "stdout",
     "output_type": "stream",
     "text": [
      "Index(['Spot \\nNumber', 'pH Range',\n",
      "       'PlasmoDB ID \\nor NCBI \\nAccession \\nNumber', 'Protein Name',\n",
      "       'Protein Name \\nAbbreviation', 'Organism',\n",
      "       'PMF: Masses=\\nPeptides\\nSearched', 'PMF: Masses=Peptides \\nMatched',\n",
      "       'PMF: Sequence Coverage', 'PMF: Mascot \\nScore',\n",
      "       'MSMS: Fragment \\nIons Matched (of 10)', ' MSMS: Sequence Coverage',\n",
      "       'MSMS: Mascot \\nScore', 'Expected \\nMW [kDa]',\n",
      "       'Apparent MW \\nof Spot [kDa]', 'Designation of MW', 'Expected\\npI',\n",
      "       'Apparent \\npI of Spot',\n",
      "       'Absolute Abundance Percentile Bin: Rings \\n(Bin 10 = most abundant)',\n",
      "       'Absolute Abundance Percentile Bin: Trophozoites\\n(Bin 10 = most abundant)',\n",
      "       'Absolute Abundance Percentile Bin: Schizonts\\n (Bin 10 = most abundant)',\n",
      "       'Unnamed: 21',\n",
      "       'Fourier Phase of Relative Abundance Profile  \\n[hpi equivalent]',\n",
      "       'Time of Major Peak of Polynomial Fit \\n[hpi]', 'Unnamed: 24', '2hpi',\n",
      "       '4hpi', '6hpi', '8hpi', '10hpi', '12hpi', '14hpi', '16hpi', '18hpi',\n",
      "       '20hpi', '22hpi', '24hpi', '26hpi', '28hpi', '30hpi', '32hpi', '34hpi',\n",
      "       '36hpi', '38hpi', '40hpi', '42hpi', '44hpi', '46hpi', '48hpi',\n",
      "       'Unnamed: 49', '2hpi.1', '4hpi.1', '6hpi.1', '8hpi.1', '10hpi.1',\n",
      "       '12hpi.1', '14hpi.1', '16hpi.1', '18hpi.1', '20hpi.1', '22hpi.1',\n",
      "       '24hpi.1', '26hpi.1', '28hpi.1', '30hpi.1', '32hpi.1', '34hpi.1',\n",
      "       '36hpi.1', '38hpi.1', '40hpi.1', '42hpi.1', '44hpi.1', '46hpi.1',\n",
      "       '48hpi.1', 'Unnamed: 74', '2hpi.2', '4hpi.2', '6hpi.2', '8hpi.2',\n",
      "       '10hpi.2', '12hpi.2', '14hpi.2', '16hpi.2', '18hpi.2', '20hpi.2',\n",
      "       '22hpi.2', '24hpi.2', '26hpi.2', '28hpi.2', '30hpi.2', '32hpi.2',\n",
      "       '34hpi.2', '36hpi.2', '38hpi.2', '40hpi.2', '42hpi.2', '44hpi.2',\n",
      "       '46hpi.2', '48hpi.2'],\n",
      "      dtype='object')\n"
     ]
    }
   ],
   "source": [
    "a = df.columns\n",
    "print(a)"
   ]
  },
  {
   "cell_type": "code",
   "execution_count": 9,
   "metadata": {},
   "outputs": [
    {
     "name": "stdout",
     "output_type": "stream",
     "text": [
      "281\n"
     ]
    }
   ],
   "source": [
    "line_plas1 = 0\n",
    "for i in range(df.shape[0]):\n",
    "    if df.at[i,'PlasmoDB ID \\nor NCBI \\nAccession \\nNumber'] == 'PF14_0076':\n",
    "        line_plas1 = i\n",
    "print(line_plas1)"
   ]
  },
  {
   "cell_type": "code",
   "execution_count": 10,
   "metadata": {},
   "outputs": [
    {
     "name": "stdout",
     "output_type": "stream",
     "text": [
      "Plasmepsin I\n"
     ]
    }
   ],
   "source": [
    "print(df.at[281,'Protein Name'])"
   ]
  },
  {
   "cell_type": "code",
   "execution_count": 14,
   "metadata": {},
   "outputs": [],
   "source": [
    "plas1_values = []\n",
    "for i in range(2,50,2):\n",
    "    plas1_values.append(df.at[line_plas1,(str)(i)+'hpi'])"
   ]
  },
  {
   "cell_type": "code",
   "execution_count": 15,
   "metadata": {},
   "outputs": [
    {
     "name": "stdout",
     "output_type": "stream",
     "text": [
      "[-0.196, -0.0044, 0.1443, 0.1423, 0.4218, 0.4842, 0.4658, 0.9082, 0.5931, 0.5166, 0.3629, 0.633, 0.1897, 0.203, 0.2106, -0.4675, -0.552, -0.619, -0.4055, -0.6111, -0.6373, -0.5524, -0.5296, -0.7005]\n"
     ]
    }
   ],
   "source": [
    "print(plas1_values)"
   ]
  },
  {
   "cell_type": "code",
   "execution_count": 20,
   "metadata": {},
   "outputs": [
    {
     "name": "stdout",
     "output_type": "stream",
     "text": [
      "[0.46516033946598556, 0.5312268601913612, 0.5889022129736791, 0.5880863867748676, 0.7138040538970792, 0.7453551933994603, 0.7359093653951765, 1.0, 0.8037952739693877, 0.762283735802174, 0.6852488941717864, 0.8263357557536755, 0.6077289822738753, 0.6133574533349501, 0.6165970960498863, 0.38536568038848057, 0.36344274197519405, 0.34695007892607915, 0.4022878301765208, 0.3488551411003929, 0.3425769525441423, 0.3633419882185179, 0.36912977012576664, 0.3278936800391681]\n"
     ]
    }
   ],
   "source": [
    "plas1_converted_values = []\n",
    "plas1_values_nonlog = []\n",
    "for value in plas1_values:\n",
    "    plas1_values_nonlog.append(2**value)\n",
    "\n",
    "max_value = 0\n",
    "for value in plas1_values_nonlog:\n",
    "    if max_value <= value:\n",
    "        max_value = value\n",
    "for value in plas1_values_nonlog:\n",
    "    plas1_converted_values.append(value/max_value)\n",
    "print(plas1_converted_values)  "
   ]
  },
  {
   "cell_type": "code",
   "execution_count": 23,
   "metadata": {},
   "outputs": [
    {
     "data": {
      "image/png": "[encoded data removed]",
      "text/plain": [
       "<Figure size 432x288 with 1 Axes>"
      ]
     },
     "metadata": {},
     "output_type": "display_data"
    }
   ],
   "source": [
    "import matplotlib.pyplot as plt\n",
    "fig = plt.figure()\n",
    "plas1_plot = fig.add_subplot(111)\n",
    "plas1_plot.plot(range(2,50,2),plas1_converted_values)\n",
    "plt.show()"
   ]
  },
  {
   "cell_type": "code",
   "execution_count": null,
   "metadata": {},
   "outputs": [],
   "source": []
  }
 ],
 "metadata": {
  "kernelspec": {
   "display_name": "Python 3",
   "language": "python",
   "name": "python3"
  },
  "language_info": {
   "codemirror_mode": {
    "name": "ipython",
    "version": 3
   },
   "file_extension": ".py",
   "mimetype": "text/x-python",
   "name": "python",
   "nbconvert_exporter": "python",
   "pygments_lexer": "ipython3",
   "version": "3.5.2"
  }
 },
 "nbformat": 4,
 "nbformat_minor": 2
}
